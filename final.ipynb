{
 "cells": [
  {
   "cell_type": "code",
   "execution_count": 1,
   "id": "opposed-communication",
   "metadata": {},
   "outputs": [],
   "source": [
    "# https://opencv-python-tutroals.readthedocs.io/en/latest/_images/messi_face.jpg\n",
    "# https://docs.opencv.org/3.4/dd/dd7/tutorial_morph_lines_detection.html\n",
    "# https://github.com/afikanyati/cadenCV\n",
    "# https://tuggeluk.github.io/deepscores/\n",
    "\n",
    "# https://www.google.com/url?sa=i&url=https%3A%2F%2Fwww.shawacademy.com%2Fblog%2Ftips-and-tricks-to-master-music-notations%2F&psig=AOvVaw0b3uXo2ARmMZ9BZY5JZat_&ust=1615976104821000&source=images&cd=vfe&ved=0CAIQjRxqFwoTCJCTy83KtO8CFQAAAAAdAAAAABAP"
   ]
  },
  {
   "cell_type": "code",
   "execution_count": null,
   "id": "rubber-estonia",
   "metadata": {},
   "outputs": [],
   "source": []
  },
  {
   "cell_type": "code",
   "execution_count": 6,
   "id": "least-laugh",
   "metadata": {},
   "outputs": [],
   "source": [
    "from util import extract;\n",
    "from match import quater_notes_match,half_notes_match,whole_notes_match,clef_match\n",
    "\n",
    "import sys\n",
    "import cv2\n",
    "import numpy as np\n",
    "from matplotlib import pyplot as plt\n",
    "from collections import Counter\n",
    "from copy import deepcopy\n",
    "from PIL import Image\n",
    "from midiutil.MidiFile import MIDIFile\n",
    "import matplotlib.patches as patches\n"
   ]
  },
  {
   "cell_type": "code",
   "execution_count": 11,
   "id": "gothic-bracelet",
   "metadata": {},
   "outputs": [
    {
     "data": {
      "image/png": "[encoded data removed]",
      "text/plain": [
       "<Figure size 432x288 with 1 Axes>"
      ]
     },
     "metadata": {
      "needs_background": "light"
     },
     "output_type": "display_data"
    }
   ],
   "source": [
    "img_file = \"./test/test1.png\"\n",
    "img = cv2.imread(img_file, 0)\n",
    "# this is the origianl image \n",
    "plt.subplot(1, 1, 1)\n",
    "plt.imshow(img, cmap=\"gray\")\n",
    "plt.title(\"Input\")\n",
    "plt.show()"
   ]
  },
  {
   "cell_type": "code",
   "execution_count": 12,
   "id": "right-egypt",
   "metadata": {},
   "outputs": [
    {
     "data": {
      "image/png": "[encoded data removed]",
      "text/plain": [
       "<Figure size 432x288 with 1 Axes>"
      ]
     },
     "metadata": {
      "needs_background": "light"
     },
     "output_type": "display_data"
    },
    {
     "data": {
      "image/png": "[encoded data removed]",
      "text/plain": [
       "<Figure size 432x288 with 1 Axes>"
      ]
     },
     "metadata": {
      "needs_background": "light"
     },
     "output_type": "display_data"
    }
   ],
   "source": [
    "# extract the image and remove the vertical line \n",
    "\n",
    "extract_img, horizontal = extract(img)\n",
    "\n",
    "plt.subplot(1, 1, 1)\n",
    "plt.imshow(extract_img, cmap=\"gray\")\n",
    "plt.title(\"extract_img\")\n",
    "plt.show()\n",
    "\n",
    "plt.subplot(1, 1, 1)\n",
    "plt.imshow(horizontal, cmap=\"gray\")\n",
    "plt.title(\"horizontal\")\n",
    "plt.show()"
   ]
  },
  {
   "cell_type": "code",
   "execution_count": 13,
   "id": "standing-object",
   "metadata": {},
   "outputs": [
    {
     "name": "stdout",
     "output_type": "stream",
     "text": [
      "Nums of quater_points:  20\n",
      "Nums of half_points:  0\n",
      "Nums of whole_points:  0\n",
      "Nums of clef_points:  1\n"
     ]
    },
    {
     "data": {
      "image/png": "[encoded data removed]",
      "text/plain": [
       "<Figure size 432x288 with 1 Axes>"
      ]
     },
     "metadata": {
      "needs_background": "light"
     },
     "output_type": "display_data"
    }
   ],
   "source": [
    "# match the notes and find the clef\n",
    "\n",
    "# second paramter is threshold \n",
    "quater_points = quater_notes_match(img, 0.7)\n",
    "half_points = half_notes_match(img,0.65)\n",
    "whole_points = whole_notes_match(img,0.6)\n",
    "clef_points = clef_match(img)\n",
    "\n",
    "def dist2(x1, x2):\n",
    "    return (x1-x2)**2\n",
    "\n",
    "def fuse(points, d):\n",
    "    ret = points.copy()\n",
    "    d2 = d * d\n",
    "    n = len(points)\n",
    "    for i in range(n):\n",
    "        for j in range(i + 1, n):\n",
    "            if ( dist2( points[i][0], points[j][0]) < d2 and  dist2( points[i][2], points[j][2]) < d2 and\n",
    "               dist2( points[i][1], points[j][1]) < d2 and dist2( points[i][3], points[j][3]) < d2 ):\n",
    "                ret.remove(points[i])\n",
    "                break\n",
    "    return ret\n",
    "\n",
    "\n",
    "quater_points = fuse(quater_points, 10)\n",
    "half_points = fuse(half_points, 10)\n",
    "whole_points = fuse(whole_points, 10)\n",
    "clef_points = fuse(clef_points, 10)\n",
    "\n",
    "print(\"Nums of quater_points: \", len(quater_points))\n",
    "print(\"Nums of half_points: \", len(half_points))\n",
    "print(\"Nums of whole_points: \", len(whole_points))\n",
    "print(\"Nums of clef_points: \", len(clef_points))\n",
    "\n",
    "plt.subplot(1, 1, 1)\n",
    "plt.imshow(extract_img, cmap=\"gray\")\n",
    "for p in (quater_points):\n",
    "    plt.plot( (p[0] + p[2])/2,(p[1] + p[3])/2, \"go\", alpha=0.5)\n",
    "\n",
    "for p in (half_points):\n",
    "    plt.plot( (p[0] + p[2])/2,(p[1] + p[3])/2, \"ro\", alpha=0.5)\n",
    "\n",
    "for p in (whole_points):\n",
    "    plt.plot( (p[0] + p[2])/2,(p[1] + p[3])/2, \"bo\", alpha=0.5)\n",
    "ax = plt.gca()\n",
    "\n",
    "\n",
    "for p in (clef_points):\n",
    "    rect = patches.Rectangle((p[0],p[1]),\n",
    "                 p[2] - p[0],\n",
    "                 p[3]- p[1],\n",
    "                 linewidth=2,\n",
    "                 edgecolor='cyan',\n",
    "                 fill = False)\n",
    "    ax.add_patch(rect)\n",
    "        \n",
    "plt.title(\"notes\")\n",
    "\n",
    "plt.show()"
   ]
  },
  {
   "cell_type": "code",
   "execution_count": 14,
   "id": "portuguese-entrance",
   "metadata": {},
   "outputs": [
    {
     "data": {
      "image/png": "[encoded data removed]",
      "text/plain": [
       "<Figure size 432x288 with 1 Axes>"
      ]
     },
     "metadata": {
      "needs_background": "light"
     },
     "output_type": "display_data"
    },
    {
     "name": "stderr",
     "output_type": "stream",
     "text": [
      "/Users/ejahn1/anaconda3/envs/msmd/lib/python3.6/site-packages/matplotlib/figure.py:98: MatplotlibDeprecationWarning: \n",
      "Adding an axes using the same arguments as a previous axes currently reuses the earlier instance.  In a future version, a new instance will always be created and returned.  Meanwhile, this warning can be suppressed, and the future behavior ensured, by passing a unique label to each axes instance.\n",
      "  \"Adding an axes using the same arguments as a previous axes \"\n"
     ]
    },
    {
     "data": {
      "image/png": "[encoded data removed]",
      "text/plain": [
       "<Figure size 432x288 with 1 Axes>"
      ]
     },
     "metadata": {
      "needs_background": "light"
     },
     "output_type": "display_data"
    }
   ],
   "source": [
    "clef_y_top  = clef_points[0][3]\n",
    "clef_y_bot  = clef_points[0][1]\n",
    "height = clef_y_top - clef_y_bot\n",
    "\n",
    "img_width = horizontal.shape[1]\n",
    "total_pitches = ['G5', 'F5', 'E5', 'D5', 'C5', 'B4', 'A4', 'G4', 'F4', 'E4', 'D4', 'C4'] \n",
    "clef_gap = height/(1.0*len(total_pitches))\n",
    "\n",
    "plt.subplot(1, 1, 1)\n",
    "plt.imshow(horizontal, cmap=\"gray\")\n",
    "\n",
    "# total 12 points \n",
    "# G5 F5 E5 D5 C5 B4 A4 G4 F4 E4 D4 C4\n",
    "for i in range(len(total_pitches)):\n",
    "    plt.plot( (img_width/(1.0*len(total_pitches))) * i , clef_y_bot + i * clef_gap, \"bo\", alpha=0.5)\n",
    "    \n",
    "plt.title(\"horizontal\")\n",
    "plt.show()\n",
    "\n",
    "fig = plt.figure()\n",
    "ax = fig.add_subplot(111)\n",
    "\n",
    "plt.subplot(1, 1, 1)\n",
    "plt.imshow(img, cmap=\"gray\")\n",
    "\n",
    "# total 12 points \n",
    "for i in range(len(total_pitches)):\n",
    "    x, y = (img_width/(1.0*len(total_pitches))) * i , clef_y_bot + i * clef_gap\n",
    "    plt.plot( x, y, \"bo\", alpha=0.5)\n",
    "\n",
    "    ax.text(x, y, total_pitches[i], fontsize=10)\n",
    "\n",
    "plt.title(\"original\")\n",
    "plt.show()\n"
   ]
  },
  {
   "cell_type": "code",
   "execution_count": 15,
   "id": "ordered-blackjack",
   "metadata": {},
   "outputs": [],
   "source": [
    "all_notes = []\n",
    "\n",
    "for i in quater_points:\n",
    "    if (i[0] <  clef_points[0][2] + 10):\n",
    "        pass\n",
    "    else:\n",
    "        all_notes.append( [i[0], ((i[0] + i[2])/2.0,(i[1] + i[3])/2.0), 'quater', None ])\n",
    "for i in half_points:\n",
    "    if (i[0] <  clef_points[0][2] + 10):\n",
    "        pass\n",
    "    else:\n",
    "        all_notes.append( [i[0], ((i[0] + i[2])/2.0,(i[1] + i[3])/2.0), 'half', None ])\n",
    "for i in whole_points:\n",
    "    if (i[0] <  clef_points[0][2] + 10):\n",
    "        pass\n",
    "    else:\n",
    "        all_notes.append( [i[0], ((i[0] + i[2])/2.0,(i[1] + i[3])/2.0), 'whole', None ])\n",
    "\n",
    "all_notes.sort(key=lambda x: x[0])\n",
    "# combined them together and sorted them by x \n"
   ]
  },
  {
   "cell_type": "code",
   "execution_count": 16,
   "id": "colonial-supervision",
   "metadata": {},
   "outputs": [
    {
     "data": {
      "image/png": "[encoded data removed]",
      "text/plain": [
       "<Figure size 432x288 with 1 Axes>"
      ]
     },
     "metadata": {
      "needs_background": "light"
     },
     "output_type": "display_data"
    }
   ],
   "source": [
    "\n",
    "fig = plt.figure()\n",
    "ax = fig.add_subplot(111)\n",
    "plt.subplot(1, 1, 1)\n",
    "plt.imshow(extract_img, cmap=\"gray\")\n",
    "\n",
    "\n",
    "for i in all_notes:\n",
    "    x, y = i[1][0], i[1][1]\n",
    "    \n",
    "\n",
    "    plt.plot( x , y , \"go\", alpha=0.5)\n",
    "    \n",
    "    pitch_index = int ( ( (y - clef_y_bot) / clef_gap )) \n",
    "    ax.text(x, y, total_pitches[pitch_index], fontsize=10)\n",
    "    i[3] = total_pitches[pitch_index]\n",
    "    \n",
    "        \n",
    "plt.title(\"notes\")\n",
    "\n",
    "plt.show()\n"
   ]
  },
  {
   "cell_type": "code",
   "execution_count": 17,
   "id": "economic-investigation",
   "metadata": {},
   "outputs": [],
   "source": [
    "# for mapping \n",
    "note_to_duration = {'quater': 1/2, 'half': 1, 'whole':2}\n",
    "pitch_to_MIDI = { \"C8\": 108, \"B7\": 107, \"Bb7\": 106, \"A#7\": 106, \"A7\": 105, \"Ab7\": 104, \"G#7\": 104, \"G7\": 103, \"Gb7\": 102, \"F#7\": 102, \"F7\": 101, \"E7\": 100, \"Eb7\": 99, \"D#7\": 99, \"D7\": 98, \"Db7\": 97, \"C#7\": 97, \"C7\": 96, \"B6\": 95, \"Bb6\": 94, \"A#6\": 94, \"A6\": 93, \"Ab6\": 92, \"G#6\": 92, \"G6\": 91, \"Gb6\": 90, \"F#6\": 90, \"F6\": 89, \"E6\": 88, \"Eb6\": 87, \"D#6\": 87, \"D6\": 86, \"Db6\": 85, \"C#6\": 85, \"C6\": 84, \"B5\": 83, \"Bb5\": 82, \"A#5\": 82, \"A5\": 81, \"Ab5\": 80, \"G#5\": 80, \"G5\": 79, \"Gb5\": 78, \"F#5\": 78, \"F5\": 77, \"E5\": 76, \"Eb5\": 75, \"D#5\": 75, \"D5\": 74, \"Db5\": 73, \"C#5\": 73, \"C5\": 72, \"B4\": 71, \"Bb4\": 70, \"A#4\": 70, \"A4\": 69, \"Ab4\": 68, \"G#4\": 68, \"G4\": 67, \"Gb4\": 66, \"F#4\": 66, \"F4\": 65, \"E4\": 64, \"Eb4\": 63, \"D#4\": 63, \"D4\": 62, \"Db4\": 61, \"C#4\": 61, \"C4\": 60, \"B3\": 59, \"Bb3\": 58, \"A#3\": 58, \"A3\": 57, \"Ab3\": 56, \"G#3\": 56, \"G3\": 55, \"Gb3\": 54, \"F#3\": 54, \"F3\": 53, \"E3\": 52, \"Eb3\": 51, \"D#3\": 51, \"D3\": 50, \"Db3\": 49, \"C#3\": 49, \"C3\": 48, \"B2\": 47, \"Bb2\": 46, \"A#2\": 46, \"A2\": 45, \"Ab2\": 44, \"G#2\": 44, \"G2\": 43, \"Gb2\": 42, \"F#2\": 42, \"F2\": 41, \"E2\": 40, \"Eb2\": 39, \"D#2\": 39, \"D2\": 38, \"Db2\": 37, \"C#2\": 37, \"C2\": 36, \"B1\": 35, \"Bb1\": 34, \"A#1\": 34, \"A1\": 33, \"Ab1\": 32, \"G#1\": 32, \"G1\": 31, \"Gb1\": 30, \"F#1\": 30, \"F1\": 29, \"E1\": 28, \"Eb1\": 27, \"D#1\": 27, \"D1\": 26, \"Db1\": 25, \"C#1\": 25, \"C1\": 24, \"B0\": 23, \"Bb0\": 22, \"A#0\": 22, \"A0\": 21 }"
   ]
  },
  {
   "cell_type": "code",
   "execution_count": 18,
   "id": "verbal-transcription",
   "metadata": {},
   "outputs": [],
   "source": [
    "# convert it to digital music \n",
    "\n",
    "# create your MIDI object\n",
    "mf = MIDIFile(1)     # only 1 track\n",
    "track = 0   # the only track\n",
    "\n",
    "time = 0    # start at the beginning\n",
    "mf.addTrackName(track, time, \"Sample Track\")\n",
    "mf.addTempo(track, time, 120)\n",
    "\n",
    "# add some notes\n",
    "channel = 0\n",
    "volume = 100\n",
    "for i in all_notes:\n",
    "    pitch = pitch_to_MIDI[i[3]] # C4 (middle C)\n",
    "    duration = note_to_duration[i[2]]         # 1 beat long\n",
    "    mf.addNote(track, channel, pitch, time, duration, volume)\n",
    "    time = time + duration\n",
    "\n",
    "# write it to disk\n",
    "with open(\"output.mid\", 'wb') as outf:\n",
    "    mf.writeFile(outf)"
   ]
  },
  {
   "cell_type": "code",
   "execution_count": null,
   "id": "instant-jason",
   "metadata": {},
   "outputs": [],
   "source": []
  },
  {
   "cell_type": "code",
   "execution_count": null,
   "id": "enclosed-sustainability",
   "metadata": {},
   "outputs": [],
   "source": []
  }
 ],
 "metadata": {
  "kernelspec": {
   "display_name": "Python 3",
   "language": "python",
   "name": "python3"
  },
  "language_info": {
   "codemirror_mode": {
    "name": "ipython",
    "version": 3
   },
   "file_extension": ".py",
   "mimetype": "text/x-python",
   "name": "python",
   "nbconvert_exporter": "python",
   "pygments_lexer": "ipython3",
   "version": "3.6.13"
  }
 },
 "nbformat": 4,
 "nbformat_minor": 5
}
